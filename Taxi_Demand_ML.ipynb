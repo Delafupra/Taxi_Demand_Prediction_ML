{
 "cells": [
  {
   "cell_type": "markdown",
   "metadata": {},
   "source": [
    "Hola Diego!\n",
    "\n",
    "Soy **Patricio Requena** 👋. Es un placer ser el revisor de tu proyecto el día de hoy!\n",
    "\n",
    "Revisaré tu proyecto detenidamente con el objetivo de ayudarte a mejorar y perfeccionar tus habilidades. Durante mi revisión, identificaré áreas donde puedas hacer mejoras en tu código, señalando específicamente qué y cómo podrías ajustar para optimizar el rendimiento y la claridad de tu proyecto. Además, es importante para mí destacar los aspectos que has manejado excepcionalmente bien. Reconocer tus fortalezas te ayudará a entender qué técnicas y métodos están funcionando a tu favor y cómo puedes aplicarlos en futuras tareas. \n",
    "\n",
    "_**Recuerda que al final de este notebook encontrarás un comentario general de mi parte**_, empecemos!\n",
    "\n",
    "Encontrarás mis comentarios dentro de cajas verdes, amarillas o rojas, ⚠️ **por favor, no muevas, modifiques o borres mis comentarios** ⚠️:\n",
    "\n",
    "\n",
    "<div class=\"alert alert-block alert-success\">\n",
    "<b>Comentario del revisor</b> <a class=“tocSkip”></a>\n",
    "Si todo está perfecto.\n",
    "</div>\n",
    "\n",
    "<div class=\"alert alert-block alert-warning\">\n",
    "<b>Comentario del revisor</b> <a class=“tocSkip”></a>\n",
    "Si tu código está bien pero se puede mejorar o hay algún detalle que le hace falta.\n",
    "</div>\n",
    "\n",
    "<div class=\"alert alert-block alert-danger\">\n",
    "<b>Comentario del revisor</b> <a class=“tocSkip”></a>\n",
    "Si de pronto hace falta algo o existe algún problema con tu código o conclusiones.\n",
    "</div>\n",
    "\n",
    "Puedes responderme de esta forma:\n",
    "<div class=\"alert alert-block alert-info\">\n",
    "<b>Respuesta del estudiante</b> <a class=“tocSkip”></a>\n",
    "</div>"
   ]
  },
  {
   "cell_type": "markdown",
   "metadata": {},
   "source": [
    "# Descripción del proyecto\n",
    "\n",
    "La compañía Sweet Lift Taxi ha recopilado datos históricos sobre pedidos de taxis en los aeropuertos. Para atraer a más conductores durante las horas pico, necesitamos predecir la cantidad de pedidos de taxis para la próxima hora. Construye un modelo para dicha predicción.\n",
    "\n",
    "La métrica RECM en el conjunto de prueba no debe ser superior a 48.\n",
    "\n",
    "## Instrucciones del proyecto.\n",
    "\n",
    "1. Descarga los datos y haz el remuestreo por una hora.\n",
    "2. Analiza los datos\n",
    "3. Entrena diferentes modelos con diferentes hiperparámetros. La muestra de prueba debe ser el 10% del conjunto de datos inicial.4. Prueba los datos usando la muestra de prueba y proporciona una conclusión.\n",
    "\n",
    "## Descripción de los datos\n",
    "\n",
    "Los datos se almacenan en el archivo `taxi.csv`. \t\n",
    "El número de pedidos está en la columna `num_orders`."
   ]
  },
  {
   "cell_type": "markdown",
   "metadata": {},
   "source": [
    "## Preparación"
   ]
  },
  {
   "cell_type": "code",
   "execution_count": 1,
   "metadata": {},
   "outputs": [],
   "source": [
    "import numpy as np\n",
    "import matplotlib.pyplot as plt\n",
    "import pandas as pd\n",
    "\n",
    "from sklearn.model_selection import train_test_split\n",
    "from sklearn.model_selection import cross_val_score\n",
    "from sklearn.model_selection import GridSearchCV\n",
    "\n",
    "from sklearn.linear_model import LinearRegression\n",
    "from sklearn.ensemble import RandomForestRegressor\n",
    "from sklearn.metrics import mean_squared_error\n",
    "\n",
    "\n"
   ]
  },
  {
   "cell_type": "markdown",
   "metadata": {},
   "source": [
    "<div class=\"alert alert-block alert-info\">\n",
    "<b>Comentario del revisor (1ra Iteracion)</b> <a class=“tocSkip”></a>\n",
    "\n",
    "Una buena práctica para cuando tengas que importar varias librerías es seguir el siguiente órden en las mismas:\n",
    "\n",
    "- Primero todas las librerías que vienen ya con python cómo `datetime`, `os`, `json`, etc.\n",
    "- Luego de las librerías de Python si las de terceros cómo `pandas`, `scipy`, `numpy`, etc.\n",
    "- Por último, en el caso de que armes tu propio módulo en tu proyecto esto debería ir en tercer lugar, y recuerda siempre ordenar cada tipo por orden alfabético\n",
    "    \n",
    "Para cada sección se deben ordenar en orden alfabético\n",
    "</div>"
   ]
  },
  {
   "cell_type": "code",
   "execution_count": 2,
   "metadata": {},
   "outputs": [],
   "source": [
    "taxi_df = pd.read_csv(\"/datasets/taxi.csv\")"
   ]
  },
  {
   "cell_type": "code",
   "execution_count": 3,
   "metadata": {},
   "outputs": [
    {
     "data": {
      "text/html": [
       "<div>\n",
       "<style scoped>\n",
       "    .dataframe tbody tr th:only-of-type {\n",
       "        vertical-align: middle;\n",
       "    }\n",
       "\n",
       "    .dataframe tbody tr th {\n",
       "        vertical-align: top;\n",
       "    }\n",
       "\n",
       "    .dataframe thead th {\n",
       "        text-align: right;\n",
       "    }\n",
       "</style>\n",
       "<table border=\"1\" class=\"dataframe\">\n",
       "  <thead>\n",
       "    <tr style=\"text-align: right;\">\n",
       "      <th></th>\n",
       "      <th>datetime</th>\n",
       "      <th>num_orders</th>\n",
       "    </tr>\n",
       "  </thead>\n",
       "  <tbody>\n",
       "    <tr>\n",
       "      <th>0</th>\n",
       "      <td>2018-03-01 00:00:00</td>\n",
       "      <td>9</td>\n",
       "    </tr>\n",
       "    <tr>\n",
       "      <th>1</th>\n",
       "      <td>2018-03-01 00:10:00</td>\n",
       "      <td>14</td>\n",
       "    </tr>\n",
       "    <tr>\n",
       "      <th>2</th>\n",
       "      <td>2018-03-01 00:20:00</td>\n",
       "      <td>28</td>\n",
       "    </tr>\n",
       "    <tr>\n",
       "      <th>3</th>\n",
       "      <td>2018-03-01 00:30:00</td>\n",
       "      <td>20</td>\n",
       "    </tr>\n",
       "    <tr>\n",
       "      <th>4</th>\n",
       "      <td>2018-03-01 00:40:00</td>\n",
       "      <td>32</td>\n",
       "    </tr>\n",
       "  </tbody>\n",
       "</table>\n",
       "</div>"
      ],
      "text/plain": [
       "              datetime  num_orders\n",
       "0  2018-03-01 00:00:00           9\n",
       "1  2018-03-01 00:10:00          14\n",
       "2  2018-03-01 00:20:00          28\n",
       "3  2018-03-01 00:30:00          20\n",
       "4  2018-03-01 00:40:00          32"
      ]
     },
     "execution_count": 3,
     "metadata": {},
     "output_type": "execute_result"
    }
   ],
   "source": [
    "taxi_df.head()"
   ]
  },
  {
   "cell_type": "code",
   "execution_count": 4,
   "metadata": {},
   "outputs": [
    {
     "name": "stdout",
     "output_type": "stream",
     "text": [
      "<class 'pandas.core.frame.DataFrame'>\n",
      "RangeIndex: 26496 entries, 0 to 26495\n",
      "Data columns (total 2 columns):\n",
      " #   Column      Non-Null Count  Dtype \n",
      "---  ------      --------------  ----- \n",
      " 0   datetime    26496 non-null  object\n",
      " 1   num_orders  26496 non-null  int64 \n",
      "dtypes: int64(1), object(1)\n",
      "memory usage: 414.1+ KB\n"
     ]
    }
   ],
   "source": [
    "taxi_df.info()"
   ]
  },
  {
   "cell_type": "code",
   "execution_count": 5,
   "metadata": {},
   "outputs": [
    {
     "data": {
      "text/html": [
       "<div>\n",
       "<style scoped>\n",
       "    .dataframe tbody tr th:only-of-type {\n",
       "        vertical-align: middle;\n",
       "    }\n",
       "\n",
       "    .dataframe tbody tr th {\n",
       "        vertical-align: top;\n",
       "    }\n",
       "\n",
       "    .dataframe thead th {\n",
       "        text-align: right;\n",
       "    }\n",
       "</style>\n",
       "<table border=\"1\" class=\"dataframe\">\n",
       "  <thead>\n",
       "    <tr style=\"text-align: right;\">\n",
       "      <th></th>\n",
       "      <th>num_orders</th>\n",
       "    </tr>\n",
       "    <tr>\n",
       "      <th>datetime</th>\n",
       "      <th></th>\n",
       "    </tr>\n",
       "  </thead>\n",
       "  <tbody>\n",
       "    <tr>\n",
       "      <th>2018-03-01 00:00:00</th>\n",
       "      <td>124</td>\n",
       "    </tr>\n",
       "    <tr>\n",
       "      <th>2018-03-01 01:00:00</th>\n",
       "      <td>85</td>\n",
       "    </tr>\n",
       "    <tr>\n",
       "      <th>2018-03-01 02:00:00</th>\n",
       "      <td>71</td>\n",
       "    </tr>\n",
       "    <tr>\n",
       "      <th>2018-03-01 03:00:00</th>\n",
       "      <td>66</td>\n",
       "    </tr>\n",
       "    <tr>\n",
       "      <th>2018-03-01 04:00:00</th>\n",
       "      <td>43</td>\n",
       "    </tr>\n",
       "  </tbody>\n",
       "</table>\n",
       "</div>"
      ],
      "text/plain": [
       "                     num_orders\n",
       "datetime                       \n",
       "2018-03-01 00:00:00         124\n",
       "2018-03-01 01:00:00          85\n",
       "2018-03-01 02:00:00          71\n",
       "2018-03-01 03:00:00          66\n",
       "2018-03-01 04:00:00          43"
      ]
     },
     "execution_count": 5,
     "metadata": {},
     "output_type": "execute_result"
    }
   ],
   "source": [
    "# Paso 1: Remuestreo de los datos a intervalos de una hora\n",
    "# Convertir la columna 'datetime' a tipo datetime\n",
    "taxi_df['datetime'] = pd.to_datetime(taxi_df['datetime'])\n",
    "\n",
    "# Remuestrear los datos a intervalos de una hora y sumando los pedidos por hora\n",
    "hourly_taxi_df = taxi_df.set_index('datetime').resample('H').sum()\n",
    "\n",
    "# Mostrar las primeras filas del dataframe remuestreado\n",
    "hourly_taxi_df.head()"
   ]
  },
  {
   "cell_type": "code",
   "execution_count": 6,
   "metadata": {},
   "outputs": [
    {
     "name": "stdout",
     "output_type": "stream",
     "text": [
      "<class 'pandas.core.frame.DataFrame'>\n",
      "DatetimeIndex: 4416 entries, 2018-03-01 00:00:00 to 2018-08-31 23:00:00\n",
      "Freq: H\n",
      "Data columns (total 1 columns):\n",
      " #   Column      Non-Null Count  Dtype\n",
      "---  ------      --------------  -----\n",
      " 0   num_orders  4416 non-null   int64\n",
      "dtypes: int64(1)\n",
      "memory usage: 69.0 KB\n"
     ]
    }
   ],
   "source": [
    "hourly_taxi_df.info()"
   ]
  },
  {
   "cell_type": "markdown",
   "metadata": {},
   "source": [
    "<div class=\"alert alert-block alert-success\">\n",
    "<b>Comentario del revisor (1ra Iteracion)</b> <a class=“tocSkip”></a>\n",
    "\n",
    "Buen trabajo con la carga de datos y la exploración inicial!\n",
    "</div>"
   ]
  },
  {
   "cell_type": "markdown",
   "metadata": {},
   "source": [
    "## Análisis"
   ]
  },
  {
   "cell_type": "code",
   "execution_count": 7,
   "metadata": {},
   "outputs": [
    {
     "data": {
      "text/html": [
       "<div>\n",
       "<style scoped>\n",
       "    .dataframe tbody tr th:only-of-type {\n",
       "        vertical-align: middle;\n",
       "    }\n",
       "\n",
       "    .dataframe tbody tr th {\n",
       "        vertical-align: top;\n",
       "    }\n",
       "\n",
       "    .dataframe thead th {\n",
       "        text-align: right;\n",
       "    }\n",
       "</style>\n",
       "<table border=\"1\" class=\"dataframe\">\n",
       "  <thead>\n",
       "    <tr style=\"text-align: right;\">\n",
       "      <th></th>\n",
       "      <th>num_orders</th>\n",
       "    </tr>\n",
       "  </thead>\n",
       "  <tbody>\n",
       "    <tr>\n",
       "      <th>count</th>\n",
       "      <td>4416.000000</td>\n",
       "    </tr>\n",
       "    <tr>\n",
       "      <th>mean</th>\n",
       "      <td>84.422781</td>\n",
       "    </tr>\n",
       "    <tr>\n",
       "      <th>std</th>\n",
       "      <td>45.023853</td>\n",
       "    </tr>\n",
       "    <tr>\n",
       "      <th>min</th>\n",
       "      <td>0.000000</td>\n",
       "    </tr>\n",
       "    <tr>\n",
       "      <th>25%</th>\n",
       "      <td>54.000000</td>\n",
       "    </tr>\n",
       "    <tr>\n",
       "      <th>50%</th>\n",
       "      <td>78.000000</td>\n",
       "    </tr>\n",
       "    <tr>\n",
       "      <th>75%</th>\n",
       "      <td>107.000000</td>\n",
       "    </tr>\n",
       "    <tr>\n",
       "      <th>max</th>\n",
       "      <td>462.000000</td>\n",
       "    </tr>\n",
       "  </tbody>\n",
       "</table>\n",
       "</div>"
      ],
      "text/plain": [
       "        num_orders\n",
       "count  4416.000000\n",
       "mean     84.422781\n",
       "std      45.023853\n",
       "min       0.000000\n",
       "25%      54.000000\n",
       "50%      78.000000\n",
       "75%     107.000000\n",
       "max     462.000000"
      ]
     },
     "execution_count": 7,
     "metadata": {},
     "output_type": "execute_result"
    }
   ],
   "source": [
    "# Descripción estadística del dataset\n",
    "data_description = hourly_taxi_df.describe()\n",
    "data_description"
   ]
  },
  {
   "cell_type": "code",
   "execution_count": 8,
   "metadata": {},
   "outputs": [
    {
     "data": {
      "image/png": "[encoded data removed]",
      "text/plain": [
       "<Figure size 1000x600 with 1 Axes>"
      ]
     },
     "metadata": {},
     "output_type": "display_data"
    }
   ],
   "source": [
    "# Visualización de la tendencia temporal de los pedidos de taxi\n",
    "plt.figure(figsize=(10,6))\n",
    "plt.plot(hourly_taxi_df.index, hourly_taxi_df['num_orders'], label='Pedidos por hora')\n",
    "plt.title('Pedidos de taxi por hora')\n",
    "plt.xlabel('Fecha')\n",
    "plt.ylabel('Número de pedidos')\n",
    "plt.grid(True)\n",
    "plt.show()"
   ]
  },
  {
   "cell_type": "markdown",
   "metadata": {},
   "source": [
    "<div class=\"alert alert-block alert-success\">\n",
    "<b>Comentario del revisor (1ra Iteracion)</b> <a class=“tocSkip”></a>\n",
    "\n",
    "Muy bien hecho el proceso para aplicar el resample!\n",
    "</div>"
   ]
  },
  {
   "cell_type": "markdown",
   "metadata": {},
   "source": [
    "## Formación"
   ]
  },
  {
   "cell_type": "code",
   "execution_count": 9,
   "metadata": {},
   "outputs": [],
   "source": [
    "# Preparar los datos para entrenamiento\n",
    "X = np.array((hourly_taxi_df.index - hourly_taxi_df.index[0]).total_seconds()).reshape(-1, 1)  # Usar el tiempo como característica\n",
    "y = hourly_taxi_df['num_orders'].values  # La variable objetivo es el número de pedidos\n"
   ]
  },
  {
   "cell_type": "code",
   "execution_count": 10,
   "metadata": {},
   "outputs": [],
   "source": [
    "# Dividir los datos en entrenamiento (90%) y prueba (10%)\n",
    "X_train, X_test, y_train, y_test = train_test_split(X, y, test_size=0.1, shuffle=False)"
   ]
  },
  {
   "cell_type": "code",
   "execution_count": 11,
   "metadata": {},
   "outputs": [
    {
     "data": {
      "text/plain": [
       "LinearRegression()"
      ]
     },
     "execution_count": 11,
     "metadata": {},
     "output_type": "execute_result"
    }
   ],
   "source": [
    "# Entrenamiento del modelo de Regresión Lineal\n",
    "linear_model = LinearRegression()\n",
    "\n",
    "# Entrenar el modelo de regresión lineal\n",
    "linear_model.fit(X_train, y_train)\n",
    "\n"
   ]
  },
  {
   "cell_type": "code",
   "execution_count": 12,
   "metadata": {},
   "outputs": [
    {
     "data": {
      "text/plain": [
       "RandomForestRegressor(random_state=42)"
      ]
     },
     "execution_count": 12,
     "metadata": {},
     "output_type": "execute_result"
    }
   ],
   "source": [
    "# Entrenamiento del modelo de Random Forest\n",
    "random_forest_model = RandomForestRegressor(random_state=42)\n",
    "\n",
    "# Entrenar el modelo de Random Forest\n",
    "random_forest_model.fit(X_train, y_train)\n",
    "\n"
   ]
  },
  {
   "cell_type": "markdown",
   "metadata": {},
   "source": []
  },
  {
   "cell_type": "markdown",
   "metadata": {},
   "source": [
    "## Prueba"
   ]
  },
  {
   "cell_type": "code",
   "execution_count": 13,
   "metadata": {},
   "outputs": [
    {
     "data": {
      "text/plain": [
       "{'MSE': 4142.236110789783, 'RMSE': 64.3602059567073}"
      ]
     },
     "execution_count": 13,
     "metadata": {},
     "output_type": "execute_result"
    }
   ],
   "source": [
    "# Predecir usando el conjunto de prueba\n",
    "y_pred_linear = linear_model.predict(X_test)\n",
    "\n",
    "# Calcular el MSE y RMSE para la Regresión Lineal\n",
    "mse_linear = mean_squared_error(y_test, y_pred_linear)\n",
    "rmse_linear = np.sqrt(mse_linear)\n",
    "\n",
    "# Resultados del modelo de Regresión Lineal\n",
    "linear_results = {\n",
    "    'MSE': mse_linear,\n",
    "    'RMSE': rmse_linear\n",
    "}\n",
    "\n",
    "linear_results"
   ]
  },
  {
   "cell_type": "code",
   "execution_count": 14,
   "metadata": {},
   "outputs": [
    {
     "data": {
      "text/plain": [
       "{'MSE': 4067.466927149322, 'RMSE': 63.776695799871305}"
      ]
     },
     "execution_count": 14,
     "metadata": {},
     "output_type": "execute_result"
    }
   ],
   "source": [
    "# Predecir usando el conjunto de prueba\n",
    "y_pred_rf = random_forest_model.predict(X_test)\n",
    "\n",
    "# Calcular el MSE y RMSE para Random Forest\n",
    "mse_rf = mean_squared_error(y_test, y_pred_rf)\n",
    "rmse_rf = np.sqrt(mse_rf)\n",
    "\n",
    "# Resultados del modelo de Random Forest\n",
    "random_forest_results = {\n",
    "    'MSE': mse_rf,\n",
    "    'RMSE': rmse_rf\n",
    "}\n",
    "\n",
    "random_forest_results"
   ]
  },
  {
   "cell_type": "code",
   "execution_count": 15,
   "metadata": {},
   "outputs": [
    {
     "name": "stdout",
     "output_type": "stream",
     "text": [
      "Linear Regression CV RMSE: 34.647429300092085\n",
      "Random Forest CV RMSE: 43.51163887972889\n"
     ]
    }
   ],
   "source": [
    "# Validación cruzada para el modelo de Regresión Lineal\n",
    "cv_scores_linear = cross_val_score(linear_model, X_train, y_train, cv=5, scoring='neg_mean_squared_error')\n",
    "rmse_cv_linear = np.sqrt(-cv_scores_linear).mean()\n",
    "\n",
    "# Validación cruzada para el modelo de Random Forest\n",
    "cv_scores_rf = cross_val_score(random_forest_model, X_train, y_train, cv=5, scoring='neg_mean_squared_error')\n",
    "rmse_cv_rf = np.sqrt(-cv_scores_rf).mean()\n",
    "\n",
    "print(f\"Linear Regression CV RMSE: {rmse_cv_linear}\")\n",
    "print(f\"Random Forest CV RMSE: {rmse_cv_rf}\")"
   ]
  },
  {
   "cell_type": "code",
   "execution_count": 16,
   "metadata": {},
   "outputs": [
    {
     "name": "stdout",
     "output_type": "stream",
     "text": [
      "Best Parameters for Random Forest: {'max_depth': 10, 'min_samples_split': 2, 'n_estimators': 50}\n",
      "Best RMSE from GridSearchCV: 39.419583947448125\n"
     ]
    }
   ],
   "source": [
    "# Definir la cuadrícula de parámetros\n",
    "param_grid = {\n",
    "    'n_estimators': [50, 100, 200],\n",
    "    'max_depth': [None, 10, 20, 30],\n",
    "    'min_samples_split': [2, 5, 10]\n",
    "}\n",
    "\n",
    "# Configurar GridSearchCV\n",
    "grid_search_rf = GridSearchCV(RandomForestRegressor(random_state=42), param_grid, cv=5, scoring='neg_mean_squared_error')\n",
    "\n",
    "# Entrenar el modelo de búsqueda de hiperparámetros\n",
    "grid_search_rf.fit(X_train, y_train)\n",
    "\n",
    "# Mejor hiperparámetro encontrado\n",
    "best_params_rf = grid_search_rf.best_params_\n",
    "best_rmse_rf = np.sqrt(-grid_search_rf.best_score_)\n",
    "\n",
    "print(f\"Best Parameters for Random Forest: {best_params_rf}\")\n",
    "print(f\"Best RMSE from GridSearchCV: {best_rmse_rf}\")"
   ]
  },
  {
   "cell_type": "markdown",
   "metadata": {},
   "source": [
    "Ambos modelos proporcionan resultados similares, aunque el modelo de Regresion lineal tiene un error menor. Al cambiar los hiperparemetros de Random Forest puedes lograr un error menor que la Regresion lineal.\n",
    "\n"
   ]
  },
  {
   "cell_type": "markdown",
   "metadata": {},
   "source": []
  },
  {
   "cell_type": "markdown",
   "metadata": {},
   "source": [
    "<div class=\"alert alert-block alert-warning\">\n",
    "<b>Comentario del revisor (2da Iteracion)</b> <a class=“tocSkip”></a>\n",
    "\n",
    "Buen trabajo con los cambios realizas e incluyendo un método nuevo para probar y obtener mejores parámetos en los modelos entrenados. Cómo recomendación es que mantengas cada proceso en su sección, por ejemplo en la sección de pruebas debería ser solo las predicciones y calcular desempeño, recuerda que una buena presentación también es importante.\n",
    "    \n",
    "También te recomiendo que obtengas las métricas de evaluación para tu set de entrenamiento.\n",
    "</div>"
   ]
  },
  {
   "cell_type": "markdown",
   "metadata": {},
   "source": [
    "# Lista de revisión"
   ]
  },
  {
   "cell_type": "markdown",
   "metadata": {},
   "source": [
    "- [x]  \t\n",
    "Jupyter Notebook está abierto.\n",
    "- [ ]  El código no tiene errores\n",
    "- [ ]  Las celdas con el código han sido colocadas en el orden de ejecución.\n",
    "- [ ]  \t\n",
    "Los datos han sido descargados y preparados.\n",
    "- [ ]  Se ha realizado el paso 2: los datos han sido analizados\n",
    "- [ ]  Se entrenó el modelo y se seleccionaron los hiperparámetros\n",
    "- [ ]  Se han evaluado los modelos. Se expuso una conclusión\n",
    "- [ ] La *RECM* para el conjunto de prueba no es más de 48"
   ]
  }
 ],
 "metadata": {
  "ExecuteTimeLog": [
   {
    "duration": 312,
    "start_time": "2024-10-03T23:56:57.101Z"
   },
   {
    "duration": 30,
    "start_time": "2024-10-03T23:56:58.960Z"
   },
   {
    "duration": 10,
    "start_time": "2024-10-03T23:57:15.371Z"
   },
   {
    "duration": 10,
    "start_time": "2024-10-03T23:57:33.755Z"
   },
   {
    "duration": 15,
    "start_time": "2024-10-03T23:59:48.820Z"
   },
   {
    "duration": 10,
    "start_time": "2024-10-04T00:00:06.057Z"
   },
   {
    "duration": 15,
    "start_time": "2024-10-04T00:01:55.076Z"
   },
   {
    "duration": 8,
    "start_time": "2024-10-04T00:01:58.116Z"
   },
   {
    "duration": 15,
    "start_time": "2024-10-04T00:02:06.849Z"
   },
   {
    "duration": 8,
    "start_time": "2024-10-04T00:02:09.025Z"
   },
   {
    "duration": 1869,
    "start_time": "2024-10-04T00:02:52.410Z"
   },
   {
    "duration": 186,
    "start_time": "2024-10-04T00:02:58.640Z"
   },
   {
    "duration": 8,
    "start_time": "2024-10-04T00:03:28.496Z"
   },
   {
    "duration": 160,
    "start_time": "2024-10-04T00:03:32.518Z"
   },
   {
    "duration": 10,
    "start_time": "2024-10-04T00:03:46.097Z"
   },
   {
    "duration": 6,
    "start_time": "2024-10-04T00:03:53.760Z"
   },
   {
    "duration": 11,
    "start_time": "2024-10-04T00:04:02.425Z"
   },
   {
    "duration": 156,
    "start_time": "2024-10-04T00:04:08.700Z"
   },
   {
    "duration": 482,
    "start_time": "2024-10-04T00:06:24.529Z"
   },
   {
    "duration": 4,
    "start_time": "2024-10-04T00:08:13.906Z"
   },
   {
    "duration": 3,
    "start_time": "2024-10-04T00:08:17.739Z"
   },
   {
    "duration": 5,
    "start_time": "2024-10-04T00:09:56.610Z"
   },
   {
    "duration": 345,
    "start_time": "2024-10-04T00:10:24.556Z"
   },
   {
    "duration": 6,
    "start_time": "2024-10-04T00:11:42.702Z"
   },
   {
    "duration": 312,
    "start_time": "2024-10-04T00:11:44.407Z"
   },
   {
    "duration": 6,
    "start_time": "2024-10-04T00:11:51.704Z"
   },
   {
    "duration": 9,
    "start_time": "2024-10-04T00:11:53.409Z"
   },
   {
    "duration": 7,
    "start_time": "2024-10-04T00:12:06.519Z"
   },
   {
    "duration": 940,
    "start_time": "2024-10-04T19:34:57.449Z"
   },
   {
    "duration": 29,
    "start_time": "2024-10-04T19:34:58.391Z"
   },
   {
    "duration": 8,
    "start_time": "2024-10-04T19:34:58.421Z"
   },
   {
    "duration": 10,
    "start_time": "2024-10-04T19:34:58.552Z"
   },
   {
    "duration": 15,
    "start_time": "2024-10-04T19:34:58.961Z"
   },
   {
    "duration": 8,
    "start_time": "2024-10-04T19:34:59.366Z"
   },
   {
    "duration": 10,
    "start_time": "2024-10-04T19:35:00.108Z"
   },
   {
    "duration": 219,
    "start_time": "2024-10-04T19:35:00.490Z"
   },
   {
    "duration": 3,
    "start_time": "2024-10-04T19:35:01.321Z"
   },
   {
    "duration": 3,
    "start_time": "2024-10-04T19:35:01.603Z"
   },
   {
    "duration": 6,
    "start_time": "2024-10-04T19:35:02.139Z"
   },
   {
    "duration": 315,
    "start_time": "2024-10-04T19:35:02.718Z"
   },
   {
    "duration": 4,
    "start_time": "2024-10-04T19:35:04.102Z"
   },
   {
    "duration": 9,
    "start_time": "2024-10-04T19:35:04.528Z"
   },
   {
    "duration": 2593,
    "start_time": "2024-10-04T23:59:01.654Z"
   },
   {
    "duration": 31,
    "start_time": "2024-10-04T23:59:04.249Z"
   },
   {
    "duration": 8,
    "start_time": "2024-10-04T23:59:04.281Z"
   },
   {
    "duration": 9,
    "start_time": "2024-10-04T23:59:04.291Z"
   },
   {
    "duration": 18,
    "start_time": "2024-10-04T23:59:04.303Z"
   },
   {
    "duration": 8,
    "start_time": "2024-10-04T23:59:04.323Z"
   },
   {
    "duration": 9,
    "start_time": "2024-10-04T23:59:04.332Z"
   },
   {
    "duration": 203,
    "start_time": "2024-10-04T23:59:04.342Z"
   },
   {
    "duration": 4,
    "start_time": "2024-10-04T23:59:04.547Z"
   },
   {
    "duration": 3,
    "start_time": "2024-10-04T23:59:04.553Z"
   },
   {
    "duration": 5,
    "start_time": "2024-10-04T23:59:04.557Z"
   },
   {
    "duration": 301,
    "start_time": "2024-10-04T23:59:04.563Z"
   },
   {
    "duration": 0,
    "start_time": "2024-10-04T23:59:04.866Z"
   },
   {
    "duration": 0,
    "start_time": "2024-10-04T23:59:04.868Z"
   },
   {
    "duration": 0,
    "start_time": "2024-10-04T23:59:04.870Z"
   },
   {
    "duration": 20,
    "start_time": "2024-10-04T23:59:42.119Z"
   },
   {
    "duration": 902,
    "start_time": "2024-10-04T23:59:52.390Z"
   },
   {
    "duration": 17,
    "start_time": "2024-10-04T23:59:53.296Z"
   },
   {
    "duration": 8,
    "start_time": "2024-10-04T23:59:53.314Z"
   },
   {
    "duration": 10,
    "start_time": "2024-10-04T23:59:53.324Z"
   },
   {
    "duration": 14,
    "start_time": "2024-10-04T23:59:53.335Z"
   },
   {
    "duration": 8,
    "start_time": "2024-10-04T23:59:53.351Z"
   },
   {
    "duration": 10,
    "start_time": "2024-10-04T23:59:53.360Z"
   },
   {
    "duration": 261,
    "start_time": "2024-10-04T23:59:53.372Z"
   },
   {
    "duration": 6,
    "start_time": "2024-10-04T23:59:53.635Z"
   },
   {
    "duration": 3,
    "start_time": "2024-10-04T23:59:53.644Z"
   },
   {
    "duration": 6,
    "start_time": "2024-10-04T23:59:53.648Z"
   },
   {
    "duration": 328,
    "start_time": "2024-10-04T23:59:53.656Z"
   },
   {
    "duration": 1275,
    "start_time": "2024-10-04T23:59:53.988Z"
   },
   {
    "duration": 5,
    "start_time": "2024-10-04T23:59:55.265Z"
   },
   {
    "duration": 9,
    "start_time": "2024-10-04T23:59:55.272Z"
   },
   {
    "duration": 45570,
    "start_time": "2024-10-05T00:00:37.311Z"
   },
   {
    "duration": 106,
    "start_time": "2024-10-05T00:03:41.111Z"
   },
   {
    "duration": 8,
    "start_time": "2024-10-05T00:03:53.905Z"
   },
   {
    "duration": 8,
    "start_time": "2024-10-05T00:04:03.798Z"
   },
   {
    "duration": 109,
    "start_time": "2024-10-05T00:04:22.066Z"
   },
   {
    "duration": 307,
    "start_time": "2024-10-05T00:04:43.232Z"
   },
   {
    "duration": 9,
    "start_time": "2024-10-05T00:04:53.353Z"
   },
   {
    "duration": 1281,
    "start_time": "2024-10-05T00:05:41.243Z"
   },
   {
    "duration": 45351,
    "start_time": "2024-10-05T00:07:09.751Z"
   },
   {
    "duration": 5,
    "start_time": "2024-10-05T00:07:55.104Z"
   },
   {
    "duration": 225,
    "start_time": "2024-10-05T00:14:15.327Z"
   },
   {
    "duration": 45436,
    "start_time": "2024-10-05T00:16:31.350Z"
   },
   {
    "duration": 110,
    "start_time": "2024-10-05T00:18:45.389Z"
   },
   {
    "duration": 172,
    "start_time": "2024-10-05T00:21:08.904Z"
   },
   {
    "duration": 118,
    "start_time": "2024-10-05T00:22:52.899Z"
   },
   {
    "duration": 117,
    "start_time": "2024-10-05T00:23:07.338Z"
   },
   {
    "duration": 162,
    "start_time": "2024-10-05T00:23:19.138Z"
   },
   {
    "duration": 319,
    "start_time": "2024-10-05T00:23:30.095Z"
   },
   {
    "duration": 268,
    "start_time": "2024-10-05T00:23:35.598Z"
   },
   {
    "duration": 235,
    "start_time": "2024-10-05T00:23:42.855Z"
   },
   {
    "duration": 211,
    "start_time": "2024-10-05T00:23:49.064Z"
   },
   {
    "duration": 228,
    "start_time": "2024-10-05T00:23:54.347Z"
   },
   {
    "duration": 231,
    "start_time": "2024-10-05T00:24:00.672Z"
   },
   {
    "duration": 240,
    "start_time": "2024-10-05T00:24:03.930Z"
   },
   {
    "duration": 267,
    "start_time": "2024-10-05T00:24:07.535Z"
   },
   {
    "duration": 276,
    "start_time": "2024-10-05T00:24:11.099Z"
   },
   {
    "duration": 196,
    "start_time": "2024-10-05T00:24:15.675Z"
   },
   {
    "duration": 256,
    "start_time": "2024-10-05T00:24:20.153Z"
   },
   {
    "duration": 245,
    "start_time": "2024-10-05T00:24:25.033Z"
   },
   {
    "duration": 520,
    "start_time": "2024-10-05T00:24:30.420Z"
   },
   {
    "duration": 1179,
    "start_time": "2024-10-05T00:24:34.875Z"
   },
   {
    "duration": 1166,
    "start_time": "2024-10-05T00:24:41.151Z"
   },
   {
    "duration": 20,
    "start_time": "2024-10-05T00:24:50.026Z"
   },
   {
    "duration": 29,
    "start_time": "2024-10-05T00:24:54.677Z"
   },
   {
    "duration": 124,
    "start_time": "2024-10-05T00:25:02.260Z"
   },
   {
    "duration": 107,
    "start_time": "2024-10-05T00:25:09.501Z"
   },
   {
    "duration": 114,
    "start_time": "2024-10-05T00:25:14.448Z"
   },
   {
    "duration": 60,
    "start_time": "2024-10-05T00:25:18.150Z"
   },
   {
    "duration": 93,
    "start_time": "2024-10-05T00:25:24.195Z"
   },
   {
    "duration": 92,
    "start_time": "2024-10-05T00:25:27.876Z"
   },
   {
    "duration": 80,
    "start_time": "2024-10-05T00:25:32.652Z"
   },
   {
    "duration": 85,
    "start_time": "2024-10-05T00:25:37.039Z"
   },
   {
    "duration": 85,
    "start_time": "2024-10-05T00:25:41.454Z"
   },
   {
    "duration": 88,
    "start_time": "2024-10-05T00:25:48.814Z"
   },
   {
    "duration": 118,
    "start_time": "2024-10-05T00:25:53.122Z"
   },
   {
    "duration": 122,
    "start_time": "2024-10-05T00:26:00.085Z"
   },
   {
    "duration": 139,
    "start_time": "2024-10-05T00:26:06.888Z"
   },
   {
    "duration": 153,
    "start_time": "2024-10-05T00:26:13.450Z"
   },
   {
    "duration": 173,
    "start_time": "2024-10-05T00:26:20.463Z"
   },
   {
    "duration": 190,
    "start_time": "2024-10-05T00:26:28.891Z"
   },
   {
    "duration": 205,
    "start_time": "2024-10-05T00:26:36.014Z"
   },
   {
    "duration": 517,
    "start_time": "2024-10-05T00:26:43.849Z"
   },
   {
    "duration": 22,
    "start_time": "2024-10-05T00:26:52.638Z"
   },
   {
    "duration": 18,
    "start_time": "2024-10-05T00:27:49.270Z"
   },
   {
    "duration": 21784,
    "start_time": "2024-10-05T00:28:07.254Z"
   },
   {
    "duration": 22,
    "start_time": "2024-10-05T00:29:11.844Z"
   },
   {
    "duration": 33,
    "start_time": "2024-10-05T00:29:22.025Z"
   },
   {
    "duration": 106,
    "start_time": "2024-10-05T00:29:33.377Z"
   },
   {
    "duration": 101,
    "start_time": "2024-10-05T00:29:43.454Z"
   },
   {
    "duration": 88,
    "start_time": "2024-10-05T00:29:51.070Z"
   },
   {
    "duration": 211,
    "start_time": "2024-10-05T00:30:11.136Z"
   },
   {
    "duration": 896,
    "start_time": "2024-10-05T03:36:18.018Z"
   },
   {
    "duration": 17,
    "start_time": "2024-10-05T03:36:18.915Z"
   },
   {
    "duration": 10,
    "start_time": "2024-10-05T03:36:18.933Z"
   },
   {
    "duration": 8,
    "start_time": "2024-10-05T03:36:18.945Z"
   },
   {
    "duration": 14,
    "start_time": "2024-10-05T03:36:18.955Z"
   },
   {
    "duration": 7,
    "start_time": "2024-10-05T03:36:18.970Z"
   },
   {
    "duration": 38,
    "start_time": "2024-10-05T03:36:18.979Z"
   },
   {
    "duration": 214,
    "start_time": "2024-10-05T03:36:19.019Z"
   },
   {
    "duration": 4,
    "start_time": "2024-10-05T03:36:19.235Z"
   },
   {
    "duration": 3,
    "start_time": "2024-10-05T03:36:19.241Z"
   },
   {
    "duration": 5,
    "start_time": "2024-10-05T03:36:19.245Z"
   },
   {
    "duration": 335,
    "start_time": "2024-10-05T03:36:19.252Z"
   },
   {
    "duration": 5,
    "start_time": "2024-10-05T03:36:19.589Z"
   },
   {
    "duration": 21,
    "start_time": "2024-10-05T03:36:19.596Z"
   },
   {
    "duration": 1282,
    "start_time": "2024-10-05T03:36:19.618Z"
   },
   {
    "duration": 44723,
    "start_time": "2024-10-05T03:36:20.901Z"
   }
  ],
  "kernelspec": {
   "display_name": "Python 3 (ipykernel)",
   "language": "python",
   "name": "python3"
  },
  "language_info": {
   "codemirror_mode": {
    "name": "ipython",
    "version": 3
   },
   "file_extension": ".py",
   "mimetype": "text/x-python",
   "name": "python",
   "nbconvert_exporter": "python",
   "pygments_lexer": "ipython3",
   "version": "3.9.19"
  },
  "toc": {
   "base_numbering": 1,
   "nav_menu": {},
   "number_sections": true,
   "sideBar": true,
   "skip_h1_title": true,
   "title_cell": "Table of Contents",
   "title_sidebar": "Contents",
   "toc_cell": false,
   "toc_position": {},
   "toc_section_display": true,
   "toc_window_display": false
  }
 },
 "nbformat": 4,
 "nbformat_minor": 2
}
